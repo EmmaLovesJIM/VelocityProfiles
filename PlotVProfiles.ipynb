{
 "cells": [
  {
   "cell_type": "code",
   "execution_count": 80,
   "metadata": {},
   "outputs": [],
   "source": [
    "%matplotlib inline\n",
    "from mpl_toolkits.basemap import Basemap\n",
    "import matplotlib.pyplot as plt\n",
    "import matplotlib.cm as cm\n",
    "import numpy as np\n",
    "from PIL import Image\n",
    "import json\n",
    "import seaborn as sns\n",
    "import plotly.offline as po\n",
    "import plotly.graph_objs as go\n",
    "import pandas as pd\n",
    "import os"
   ]
  },
  {
   "cell_type": "code",
   "execution_count": 97,
   "metadata": {},
   "outputs": [],
   "source": [
    "x = []\n",
    "y = []\n",
    "z = []\n",
    "for fn in os.listdir('data'):\n",
    "    with open('data/'+fn) as json_file:   \n",
    "        json_data = json.load(json_file)\n",
    "    x.extend(json_data['x'])\n",
    "    y.extend(json_data['y'])\n",
    "    z.extend(json_data['v'])"
   ]
  },
  {
   "cell_type": "code",
   "execution_count": 100,
   "metadata": {},
   "outputs": [],
   "source": [
    "df = pd.DataFrame({'x': x, 'y': y, 'z': z})\n",
    "df.head()\n",
    "df = df[df['z'] >= 0]"
   ]
  },
  {
   "cell_type": "code",
   "execution_count": 115,
   "metadata": {},
   "outputs": [
    {
     "data": {
      "text/plain": [
       "'file:///Users/raphael/sciebo/RailwayChallenge_2018/TestRideData/VelocityProfiles/temp-plot.html'"
      ]
     },
     "execution_count": 115,
     "metadata": {},
     "output_type": "execute_result"
    }
   ],
   "source": [
    "data = [dict(\n",
    "    x = df['y'],\n",
    "    y = df['x'],\n",
    "    mode = 'markers',\n",
    "    hoverinfo = '',\n",
    "    marker=dict(\n",
    "        size='5',\n",
    "        color = 3.6*df['z'], \n",
    "        colorscale='Viridis',\n",
    "        showscale=True\n",
    "    ),\n",
    "    type = 'scatter'\n",
    ")]\n",
    "\n",
    "layout = dict(\n",
    "    title = 'Test Drive Velocity v/(km/h)',\n",
    "    xaxis=dict(\n",
    "        autorange=True,\n",
    "        showgrid=False,\n",
    "        zeroline=False,\n",
    "        showline=False,\n",
    "        autotick=True,\n",
    "        ticks='',\n",
    "        showticklabels=False\n",
    "    ),\n",
    "    yaxis=dict(\n",
    "        autorange=True,\n",
    "        showgrid=False,\n",
    "        zeroline=False,\n",
    "        showline=False,\n",
    "        autotick=True,\n",
    "        ticks='',\n",
    "        showticklabels=False\n",
    "    ),\n",
    ")\n",
    "\n",
    "fig = { 'data':data, 'layout':layout }\n",
    "\n",
    "po.plot(fig, image='png') #filename='VProfile.png',show_link = False,"
   ]
  },
  {
   "cell_type": "code",
   "execution_count": null,
   "metadata": {},
   "outputs": [],
   "source": []
  }
 ],
 "metadata": {
  "kernelspec": {
   "display_name": "Python 3",
   "language": "python",
   "name": "python3"
  },
  "language_info": {
   "codemirror_mode": {
    "name": "ipython",
    "version": 3
   },
   "file_extension": ".py",
   "mimetype": "text/x-python",
   "name": "python",
   "nbconvert_exporter": "python",
   "pygments_lexer": "ipython3",
   "version": "3.5.4"
  }
 },
 "nbformat": 4,
 "nbformat_minor": 2
}
